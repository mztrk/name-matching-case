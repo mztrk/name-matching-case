{
 "cells": [
  {
   "cell_type": "code",
   "execution_count": 3,
   "id": "83df6b45-099a-407d-991c-9120300c490f",
   "metadata": {},
   "outputs": [
    {
     "name": "stdout",
     "output_type": "stream",
     "text": [
      "Collecting fuzzywuzzy\n",
      "  Downloading fuzzywuzzy-0.18.0-py2.py3-none-any.whl.metadata (4.9 kB)\n",
      "Downloading fuzzywuzzy-0.18.0-py2.py3-none-any.whl (18 kB)\n",
      "Installing collected packages: fuzzywuzzy\n",
      "Successfully installed fuzzywuzzy-0.18.0\n",
      "Note: you may need to restart the kernel to use updated packages.\n"
     ]
    }
   ],
   "source": [
    "pip install fuzzywuzzy"
   ]
  },
  {
   "cell_type": "code",
   "execution_count": 19,
   "id": "b0a98617-a615-4256-a914-a0a34fb5e83d",
   "metadata": {},
   "outputs": [],
   "source": [
    "import pandas as pd\n",
    "import numpy as np\n",
    "import re\n",
    "from fuzzywuzzy import fuzz, process\n",
    "from sklearn.feature_extraction.text import TfidfVectorizer\n",
    "from sklearn.metrics.pairwise import cosine_similarity\n",
    "from sklearn.model_selection import train_test_split\n",
    "from sklearn.ensemble import RandomForestClassifier\n",
    "from sklearn.preprocessing import LabelEncoder\n",
    "import warnings\n",
    "warnings.filterwarnings(\"ignore\")\n"
   ]
  },
  {
   "cell_type": "code",
   "execution_count": 21,
   "id": "5184ab47-6828-4cd6-bbb9-402511e5cd8c",
   "metadata": {},
   "outputs": [],
   "source": [
    "\n",
    "# Load the datasets\n",
    "def load_data(g_path, s_train_path, submission_path):\n",
    "    G = pd.read_csv(g_path, delimiter='|', encoding='utf-8')\n",
    "    STrain = pd.read_csv(s_train_path, delimiter='|', encoding='utf-8')\n",
    "    sample_submission = pd.read_csv(submission_path, delimiter='|', encoding='utf-8')\n",
    "    return G, STrain, sample_submission\n",
    "\n"
   ]
  },
  {
   "cell_type": "code",
   "execution_count": 23,
   "id": "e79462c6-8799-4a85-b582-aecd5e219ff1",
   "metadata": {},
   "outputs": [
    {
     "name": "stdout",
     "output_type": "stream",
     "text": [
      "G:\n",
      "    company_id                        name\n",
      "0      634022                  PRIMCOM SA\n",
      "1      324497       The David Isaacs Fund\n",
      "2      280848  Bramor Enterprises Limited\n",
      "3      432662                NAVEXIM S.A.\n",
      "4      524224              Magal Group SA\n",
      "STrain:\n",
      "    train_index                                               name  company_id\n",
      "0            0                        ATRION Immo bilien & Co. KG          -1\n",
      "1            1                            MyTyme Inve stments Inc      356624\n",
      "2            2                                     Financial USI.      510805\n",
      "3            3  FlexShares Trust - FlexShares Morningstar Emer...      523467\n",
      "4            4                                    Health Sinai SF      231108\n",
      "Sample Submission:\n",
      "    test_index  company_id\n",
      "0           0      175199\n",
      "1           1      356621\n",
      "2           2      191063\n",
      "3           3          -1\n",
      "4           4          -1\n"
     ]
    }
   ],
   "source": [
    "G, STrain, sample_submission = load_data(\"G.csv\", \"STrain.csv\", \"sample_submission.csv\")\n",
    "\n",
    "print(\"G:\\n\", G.head())\n",
    "print(\"STrain:\\n\", STrain.head())\n",
    "print(\"Sample Submission:\\n\", sample_submission.head())"
   ]
  },
  {
   "cell_type": "code",
   "execution_count": 25,
   "id": "8961342f-7fe7-4f7b-b4a0-2b129af49505",
   "metadata": {},
   "outputs": [],
   "source": [
    "# Preprocessing function\n",
    "def clean_text(text):\n",
    "    text = text.lower()\n",
    "    text = re.sub(r'[^a-z0-9 ]', '', text)  # Remove special characters\n",
    "    text = text.strip()\n",
    "    return text\n"
   ]
  },
  {
   "cell_type": "code",
   "execution_count": 27,
   "id": "449158cd-830b-4954-8500-df76371713aa",
   "metadata": {},
   "outputs": [],
   "source": [
    "\n",
    "# Feature engineering: String similarity functions\n",
    "def compute_string_similarities(s_name, g_name):\n",
    "    return {\n",
    "        'levenshtein': fuzz.ratio(s_name, g_name),\n",
    "        'jaccard': len(set(s_name).intersection(set(g_name))) / len(set(s_name).union(set(g_name))),\n",
    "        'tfidf_cosine': 0  # Placeholder, computed later\n",
    "    }\n",
    "\n"
   ]
  },
  {
   "cell_type": "code",
   "execution_count": 29,
   "id": "ce018027-85fe-486e-8a5d-dad5288f45d2",
   "metadata": {},
   "outputs": [],
   "source": [
    "# Main function to create features\n",
    "def generate_features(S, G):\n",
    "    vectorizer = TfidfVectorizer()\n",
    "    tfidf_g_matrix = vectorizer.fit_transform(G['name'].apply(clean_text))\n",
    "    \n",
    "    features = []\n",
    "    for _, row in S.iterrows():\n",
    "        s_clean = clean_text(row['name'])\n",
    "        s_vector = vectorizer.transform([s_clean])\n",
    "        similarities = []\n",
    "        \n",
    "        for _, g_row in G.iterrows():\n",
    "            g_clean = clean_text(g_row['name'])\n",
    "            string_sims = compute_string_similarities(s_clean, g_clean)\n",
    "            string_sims['tfidf_cosine'] = cosine_similarity(s_vector, tfidf_g_matrix[G.index == g_row.name]).flatten()[0]\n",
    "            string_sims['company_id'] = g_row['company_id']\n",
    "            similarities.append(string_sims)\n",
    "        \n",
    "        best_match = max(similarities, key=lambda x: x['tfidf_cosine'])\n",
    "        best_match['train_index'] = row['train_index']\n",
    "        features.append(best_match)\n",
    "    \n",
    "    return pd.DataFrame(features)\n"
   ]
  },
  {
   "cell_type": "code",
   "execution_count": null,
   "id": "c3dd8156-a032-47eb-b96a-917f38f6a01b",
   "metadata": {},
   "outputs": [],
   "source": [
    "train_features = generate_features(STrain, G)\n",
    "print(\"Generated Features:\\n\", train_features.head())"
   ]
  },
  {
   "cell_type": "code",
   "execution_count": null,
   "id": "98473813-e2c6-4451-8be1-8a1dede8a698",
   "metadata": {},
   "outputs": [],
   "source": [
    "\n",
    "# Training model\n",
    "def train_model(features, labels):\n",
    "    X = features.drop(columns=['company_id', 'train_index'])\n",
    "    y = labels\n",
    "    le = LabelEncoder()\n",
    "    y = le.fit_transform(y)\n",
    "    \n",
    "    X_train, X_test, y_train, y_test = train_test_split(X, y, test_size=0.2, random_state=42)\n",
    "    model = RandomForestClassifier(n_estimators=100, random_state=42)\n",
    "    model.fit(X_train, y_train)\n",
    "    \n",
    "    return model, le\n"
   ]
  },
  {
   "cell_type": "code",
   "execution_count": null,
   "id": "0514543a-a5de-439f-8756-76b03a5aa590",
   "metadata": {},
   "outputs": [],
   "source": [
    "model, label_encoder = train_model(train_features, STrain['company_id'])"
   ]
  },
  {
   "cell_type": "code",
   "execution_count": null,
   "id": "22ef6fa0-2687-4ff0-ab82-f445dc923293",
   "metadata": {},
   "outputs": [],
   "source": [
    "\n",
    "# Inference function\n",
    "def predict(model, le, test_features):\n",
    "    X_test = test_features.drop(columns=['train_index'])\n",
    "    y_pred = model.predict(X_test)\n",
    "    test_features['company_id'] = le.inverse_transform(y_pred)\n",
    "    return test_features[['train_index', 'company_id']]\n"
   ]
  },
  {
   "cell_type": "code",
   "execution_count": null,
   "id": "75fa3ba4-37f4-4862-9b6e-0d29a1e58b8a",
   "metadata": {},
   "outputs": [],
   "source": [
    "test_features = generate_features(STest, G)"
   ]
  },
  {
   "cell_type": "code",
   "execution_count": null,
   "id": "b94d83fb-6f77-4dbb-b0c9-cb60c5599da8",
   "metadata": {},
   "outputs": [],
   "source": [
    "predictions = predict(model, label_encoder, test_features)\n",
    "print(\"Predictions:\\n\", predictions)"
   ]
  },
  {
   "cell_type": "code",
   "execution_count": null,
   "id": "bb8c5077-6d92-46c9-a089-3d335075109e",
   "metadata": {},
   "outputs": [],
   "source": [
    "\n",
    "# Save output\n",
    "def save_predictions(predictions, output_path):\n",
    "    predictions.to_csv(output_path, sep='|', index=False, encoding='utf-8')\n"
   ]
  },
  {
   "cell_type": "code",
   "execution_count": null,
   "id": "3ef8fb0c-7b5f-4d02-8a45-9e131b154bc9",
   "metadata": {},
   "outputs": [],
   "source": [
    "save_predictions(predictions, \"final_predictions.csv\")\n",
    "print(\"Predictions saved to final_predictions.csv\")"
   ]
  }
 ],
 "metadata": {
  "kernelspec": {
   "display_name": "Python 3 (ipykernel)",
   "language": "python",
   "name": "python3"
  },
  "language_info": {
   "codemirror_mode": {
    "name": "ipython",
    "version": 3
   },
   "file_extension": ".py",
   "mimetype": "text/x-python",
   "name": "python",
   "nbconvert_exporter": "python",
   "pygments_lexer": "ipython3",
   "version": "3.12.4"
  }
 },
 "nbformat": 4,
 "nbformat_minor": 5
}
